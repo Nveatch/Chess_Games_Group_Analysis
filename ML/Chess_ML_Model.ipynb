{
 "cells": [
  {
   "cell_type": "code",
   "execution_count": 1,
   "id": "e801ec85",
   "metadata": {
    "collapsed": true
   },
   "outputs": [
    {
     "name": "stderr",
     "output_type": "stream",
     "text": [
      "C:\\Users\\mulle\\anaconda3\\envs\\mlenv\\lib\\site-packages\\tensorflow\\python\\framework\\dtypes.py:516: FutureWarning: Passing (type, 1) or '1type' as a synonym of type is deprecated; in a future version of numpy, it will be understood as (type, (1,)) / '(1,)type'.\n",
      "  _np_qint8 = np.dtype([(\"qint8\", np.int8, 1)])\n",
      "C:\\Users\\mulle\\anaconda3\\envs\\mlenv\\lib\\site-packages\\tensorflow\\python\\framework\\dtypes.py:517: FutureWarning: Passing (type, 1) or '1type' as a synonym of type is deprecated; in a future version of numpy, it will be understood as (type, (1,)) / '(1,)type'.\n",
      "  _np_quint8 = np.dtype([(\"quint8\", np.uint8, 1)])\n",
      "C:\\Users\\mulle\\anaconda3\\envs\\mlenv\\lib\\site-packages\\tensorflow\\python\\framework\\dtypes.py:518: FutureWarning: Passing (type, 1) or '1type' as a synonym of type is deprecated; in a future version of numpy, it will be understood as (type, (1,)) / '(1,)type'.\n",
      "  _np_qint16 = np.dtype([(\"qint16\", np.int16, 1)])\n",
      "C:\\Users\\mulle\\anaconda3\\envs\\mlenv\\lib\\site-packages\\tensorflow\\python\\framework\\dtypes.py:519: FutureWarning: Passing (type, 1) or '1type' as a synonym of type is deprecated; in a future version of numpy, it will be understood as (type, (1,)) / '(1,)type'.\n",
      "  _np_quint16 = np.dtype([(\"quint16\", np.uint16, 1)])\n",
      "C:\\Users\\mulle\\anaconda3\\envs\\mlenv\\lib\\site-packages\\tensorflow\\python\\framework\\dtypes.py:520: FutureWarning: Passing (type, 1) or '1type' as a synonym of type is deprecated; in a future version of numpy, it will be understood as (type, (1,)) / '(1,)type'.\n",
      "  _np_qint32 = np.dtype([(\"qint32\", np.int32, 1)])\n",
      "C:\\Users\\mulle\\anaconda3\\envs\\mlenv\\lib\\site-packages\\tensorflow\\python\\framework\\dtypes.py:525: FutureWarning: Passing (type, 1) or '1type' as a synonym of type is deprecated; in a future version of numpy, it will be understood as (type, (1,)) / '(1,)type'.\n",
      "  np_resource = np.dtype([(\"resource\", np.ubyte, 1)])\n",
      "C:\\Users\\mulle\\anaconda3\\envs\\mlenv\\lib\\site-packages\\tensorboard\\compat\\tensorflow_stub\\dtypes.py:541: FutureWarning: Passing (type, 1) or '1type' as a synonym of type is deprecated; in a future version of numpy, it will be understood as (type, (1,)) / '(1,)type'.\n",
      "  _np_qint8 = np.dtype([(\"qint8\", np.int8, 1)])\n",
      "C:\\Users\\mulle\\anaconda3\\envs\\mlenv\\lib\\site-packages\\tensorboard\\compat\\tensorflow_stub\\dtypes.py:542: FutureWarning: Passing (type, 1) or '1type' as a synonym of type is deprecated; in a future version of numpy, it will be understood as (type, (1,)) / '(1,)type'.\n",
      "  _np_quint8 = np.dtype([(\"quint8\", np.uint8, 1)])\n",
      "C:\\Users\\mulle\\anaconda3\\envs\\mlenv\\lib\\site-packages\\tensorboard\\compat\\tensorflow_stub\\dtypes.py:543: FutureWarning: Passing (type, 1) or '1type' as a synonym of type is deprecated; in a future version of numpy, it will be understood as (type, (1,)) / '(1,)type'.\n",
      "  _np_qint16 = np.dtype([(\"qint16\", np.int16, 1)])\n",
      "C:\\Users\\mulle\\anaconda3\\envs\\mlenv\\lib\\site-packages\\tensorboard\\compat\\tensorflow_stub\\dtypes.py:544: FutureWarning: Passing (type, 1) or '1type' as a synonym of type is deprecated; in a future version of numpy, it will be understood as (type, (1,)) / '(1,)type'.\n",
      "  _np_quint16 = np.dtype([(\"quint16\", np.uint16, 1)])\n",
      "C:\\Users\\mulle\\anaconda3\\envs\\mlenv\\lib\\site-packages\\tensorboard\\compat\\tensorflow_stub\\dtypes.py:545: FutureWarning: Passing (type, 1) or '1type' as a synonym of type is deprecated; in a future version of numpy, it will be understood as (type, (1,)) / '(1,)type'.\n",
      "  _np_qint32 = np.dtype([(\"qint32\", np.int32, 1)])\n",
      "C:\\Users\\mulle\\anaconda3\\envs\\mlenv\\lib\\site-packages\\tensorboard\\compat\\tensorflow_stub\\dtypes.py:550: FutureWarning: Passing (type, 1) or '1type' as a synonym of type is deprecated; in a future version of numpy, it will be understood as (type, (1,)) / '(1,)type'.\n",
      "  np_resource = np.dtype([(\"resource\", np.ubyte, 1)])\n"
     ]
    }
   ],
   "source": [
    "# Import dependencies\n",
    "import pandas as pd\n",
    "import numpy as np\n",
    "from config import db_password\n",
    "from sqlalchemy import create_engine\n",
    "import psycopg2\n",
    "import pandas.io.sql as sqlio\n",
    "import sklearn as skl\n",
    "from sklearn.model_selection import train_test_split\n",
    "from sklearn.preprocessing import StandardScaler\n",
    "import tensorflow as tf\n",
    "from tensorflow import keras\n",
    "from tensorflow.keras import layers"
   ]
  },
  {
   "cell_type": "code",
   "execution_count": 2,
   "id": "7c07c1fd",
   "metadata": {},
   "outputs": [],
   "source": [
    "#create database connection variable \n",
    "conn = psycopg2.connect(user=\"postgres\", password=db_password, host=\"localhost\", database=\"lichess_data\")"
   ]
  },
  {
   "cell_type": "code",
   "execution_count": 3,
   "id": "1fc714d0",
   "metadata": {},
   "outputs": [],
   "source": [
    "#execute query and save it to a variable\n",
    "query=\"select * from chess_data\"\n",
    "chess_df = sqlio.read_sql_query(query,conn)"
   ]
  },
  {
   "cell_type": "code",
   "execution_count": 4,
   "id": "f6b8823d",
   "metadata": {},
   "outputs": [],
   "source": [
    "chess_df.drop(['id'],axis=1, inplace=True)"
   ]
  },
  {
   "cell_type": "code",
   "execution_count": 5,
   "id": "c71b14de",
   "metadata": {},
   "outputs": [],
   "source": [
    "# Split moves column into moves df\n",
    "moves_df = chess_df['moves'].str.split(' ', n=10, expand=True)\n",
    "\n",
    "# Drop column 10 and rename columns\n",
    "moves_df=moves_df.drop(10,axis=1)\n",
    "moves_df.columns= [\"Wm1\",\"Bm1\",\"Wm2\",\"Bm2\",\"Wm3\",\"Bm3\",\"Wm4\",\"Bm4\",\"Wm5\",\"Bm5\"]\n",
    "\n",
    "moves_df[\"outcome\"] = chess_df[\"winner\"]\n",
    "\n",
    "# drop na\n",
    "moves_df = moves_df.dropna()"
   ]
  },
  {
   "cell_type": "code",
   "execution_count": 6,
   "id": "1b95aecd",
   "metadata": {},
   "outputs": [
    {
     "name": "stdout",
     "output_type": "stream",
     "text": [
      "Wm1 Bm1 Wm2 Bm2 Wm3 Bm3 Wm4 Bm4 Wm5 Bm5 outcome "
     ]
    },
    {
     "data": {
      "text/html": [
       "<div>\n",
       "<style scoped>\n",
       "    .dataframe tbody tr th:only-of-type {\n",
       "        vertical-align: middle;\n",
       "    }\n",
       "\n",
       "    .dataframe tbody tr th {\n",
       "        vertical-align: top;\n",
       "    }\n",
       "\n",
       "    .dataframe thead th {\n",
       "        text-align: right;\n",
       "    }\n",
       "</style>\n",
       "<table border=\"1\" class=\"dataframe\">\n",
       "  <thead>\n",
       "    <tr style=\"text-align: right;\">\n",
       "      <th></th>\n",
       "      <th>Wm1</th>\n",
       "      <th>Bm1</th>\n",
       "      <th>Wm2</th>\n",
       "      <th>Bm2</th>\n",
       "      <th>Wm3</th>\n",
       "      <th>Bm3</th>\n",
       "      <th>Wm4</th>\n",
       "      <th>Bm4</th>\n",
       "      <th>Wm5</th>\n",
       "      <th>Bm5</th>\n",
       "      <th>outcome</th>\n",
       "    </tr>\n",
       "  </thead>\n",
       "  <tbody>\n",
       "    <tr>\n",
       "      <th>0</th>\n",
       "      <td>17</td>\n",
       "      <td>2</td>\n",
       "      <td>18</td>\n",
       "      <td>87</td>\n",
       "      <td>282</td>\n",
       "      <td>65</td>\n",
       "      <td>157</td>\n",
       "      <td>3</td>\n",
       "      <td>64</td>\n",
       "      <td>371</td>\n",
       "      <td>1</td>\n",
       "    </tr>\n",
       "    <tr>\n",
       "      <th>1</th>\n",
       "      <td>17</td>\n",
       "      <td>11</td>\n",
       "      <td>87</td>\n",
       "      <td>155</td>\n",
       "      <td>67</td>\n",
       "      <td>23</td>\n",
       "      <td>238</td>\n",
       "      <td>128</td>\n",
       "      <td>143</td>\n",
       "      <td>122</td>\n",
       "      <td>2</td>\n",
       "    </tr>\n",
       "    <tr>\n",
       "      <th>2</th>\n",
       "      <td>14</td>\n",
       "      <td>16</td>\n",
       "      <td>5</td>\n",
       "      <td>133</td>\n",
       "      <td>127</td>\n",
       "      <td>320</td>\n",
       "      <td>153</td>\n",
       "      <td>22</td>\n",
       "      <td>458</td>\n",
       "      <td>485</td>\n",
       "      <td>1</td>\n",
       "    </tr>\n",
       "    <tr>\n",
       "      <th>3</th>\n",
       "      <td>17</td>\n",
       "      <td>2</td>\n",
       "      <td>41</td>\n",
       "      <td>31</td>\n",
       "      <td>135</td>\n",
       "      <td>293</td>\n",
       "      <td>66</td>\n",
       "      <td>379</td>\n",
       "      <td>221</td>\n",
       "      <td>87</td>\n",
       "      <td>1</td>\n",
       "    </tr>\n",
       "    <tr>\n",
       "      <th>4</th>\n",
       "      <td>14</td>\n",
       "      <td>16</td>\n",
       "      <td>41</td>\n",
       "      <td>133</td>\n",
       "      <td>186</td>\n",
       "      <td>42</td>\n",
       "      <td>221</td>\n",
       "      <td>17</td>\n",
       "      <td>477</td>\n",
       "      <td>617</td>\n",
       "      <td>1</td>\n",
       "    </tr>\n",
       "  </tbody>\n",
       "</table>\n",
       "</div>"
      ],
      "text/plain": [
       "   Wm1  Bm1  Wm2  Bm2  Wm3  Bm3  Wm4  Bm4  Wm5  Bm5  outcome\n",
       "0   17    2   18   87  282   65  157    3   64  371        1\n",
       "1   17   11   87  155   67   23  238  128  143  122        2\n",
       "2   14   16    5  133  127  320  153   22  458  485        1\n",
       "3   17    2   41   31  135  293   66  379  221   87        1\n",
       "4   14   16   41  133  186   42  221   17  477  617        1"
      ]
     },
     "execution_count": 6,
     "metadata": {},
     "output_type": "execute_result"
    }
   ],
   "source": [
    "# Changing moves to numbers\n",
    "for col in moves_df.columns:\n",
    "    print(col,end=' ')\n",
    "    \n",
    "    # Get list of unique values\n",
    "    values = list(set(moves_df[col].values))\n",
    "    \n",
    "    # Create numerical dictionary\n",
    "    values_with_indexes = {}\n",
    "    for i, v in enumerate(values):\n",
    "        values_with_indexes[v] = i\n",
    "    \n",
    "    # Replace column\n",
    "    moves_df.replace({col: values_with_indexes},inplace=True)\n",
    "\n",
    "moves_df.head()"
   ]
  },
  {
   "cell_type": "code",
   "execution_count": 7,
   "id": "4676791f",
   "metadata": {},
   "outputs": [],
   "source": [
    "# Export csv containing sample data to be imported into ML\n",
    "# moves_df.to_csv(\"ML_sample_data.csv\")"
   ]
  },
  {
   "cell_type": "code",
   "execution_count": 8,
   "id": "b7775660",
   "metadata": {},
   "outputs": [
    {
     "name": "stderr",
     "output_type": "stream",
     "text": [
      "C:\\Users\\mulle\\anaconda3\\envs\\mlenv\\lib\\site-packages\\ipykernel_launcher.py:3: FutureWarning: In a future version of pandas all arguments of DataFrame.drop except for the argument 'labels' will be keyword-only\n",
      "  This is separate from the ipykernel package so we can avoid doing imports until\n"
     ]
    }
   ],
   "source": [
    "# Split our preprocessed data into our features and target arrays\n",
    "y = moves_df[\"outcome\"].values\n",
    "X = moves_df.drop(\"outcome\",1).values\n",
    "\n",
    "# Split the preprocessed data into a training and testing dataset\n",
    "X_train, X_test, y_train, y_test = train_test_split(X,y,random_state = 1)"
   ]
  },
  {
   "cell_type": "code",
   "execution_count": 9,
   "id": "2bd1fb21",
   "metadata": {},
   "outputs": [],
   "source": [
    "# Create a StandardScaler instances\n",
    "scaler = StandardScaler()\n",
    "\n",
    "# Fit the StandardScaler\n",
    "X_scaler = scaler.fit(X_train)\n",
    "\n",
    "# Scale the data\n",
    "X_train_scaled = X_scaler.transform(X_train)\n",
    "X_test_scaled = X_scaler.transform(X_test)"
   ]
  },
  {
   "cell_type": "code",
   "execution_count": 10,
   "id": "2d98fcaa",
   "metadata": {},
   "outputs": [],
   "source": [
    "# import tensorflow as tf\n",
    "# from tensorflow import keras\n",
    "# from tensorflow.keras import layers"
   ]
  },
  {
   "cell_type": "markdown",
   "id": "eaec165a",
   "metadata": {},
   "source": [
    "## First model - one feature layer (sigmoid)"
   ]
  },
  {
   "cell_type": "code",
   "execution_count": 46,
   "id": "fcd9556e",
   "metadata": {},
   "outputs": [],
   "source": [
    "# Create the keras sequential model\n",
    "number_input_features = len(X_train_scaled[0])\n",
    "nn_model = tf.keras.models.Sequential()"
   ]
  },
  {
   "cell_type": "code",
   "execution_count": 47,
   "id": "3c50e2d8",
   "metadata": {},
   "outputs": [],
   "source": [
    "# Add the first layer including input layer\n",
    "nn_model.add(tf.keras.layers.Dense(units=1, activation=\"sigmoid\", input_dim = number_input_features))"
   ]
  },
  {
   "cell_type": "code",
   "execution_count": 48,
   "id": "f8efd726",
   "metadata": {},
   "outputs": [],
   "source": [
    "# Add the ouput layer that uses a probability activation function\n",
    "nn_model.add(tf.keras.layers.Dense(units=1, activation=\"sigmoid\"))"
   ]
  },
  {
   "cell_type": "code",
   "execution_count": 49,
   "id": "6bd79f04",
   "metadata": {},
   "outputs": [
    {
     "name": "stdout",
     "output_type": "stream",
     "text": [
      "Model: \"sequential_7\"\n",
      "_________________________________________________________________\n",
      "Layer (type)                 Output Shape              Param #   \n",
      "=================================================================\n",
      "dense_20 (Dense)             (None, 1)                 11        \n",
      "_________________________________________________________________\n",
      "dense_21 (Dense)             (None, 1)                 2         \n",
      "=================================================================\n",
      "Total params: 13\n",
      "Trainable params: 13\n",
      "Non-trainable params: 0\n",
      "_________________________________________________________________\n"
     ]
    }
   ],
   "source": [
    "# Create a summary to check the structure of the sequential model\n",
    "nn_model.summary()"
   ]
  },
  {
   "cell_type": "code",
   "execution_count": 50,
   "id": "4553fcff",
   "metadata": {},
   "outputs": [],
   "source": [
    "# Compile the model and customize metrics\n",
    "nn_model.compile(loss=\"binary_crossentropy\", optimizer=\"adam\", metrics=[\"accuracy\"])"
   ]
  },
  {
   "cell_type": "code",
   "execution_count": 51,
   "id": "0cd86fe0",
   "metadata": {},
   "outputs": [
    {
     "name": "stdout",
     "output_type": "stream",
     "text": [
      "Epoch 1/5\n",
      "754604/754604 [==============================] - 11s 14us/sample - loss: -10.1057 - acc: 0.4976\n",
      "Epoch 2/5\n",
      "754604/754604 [==============================] - 10s 14us/sample - loss: -29.6923 - acc: 0.4976\n",
      "Epoch 3/5\n",
      "754604/754604 [==============================] - 10s 14us/sample - loss: -49.2229 - acc: 0.4976\n",
      "Epoch 4/5\n",
      "754604/754604 [==============================] - 10s 14us/sample - loss: -68.7536 - acc: 0.4976\n",
      "Epoch 5/5\n",
      "754604/754604 [==============================] - 11s 14us/sample - loss: -88.2973 - acc: 0.4976\n"
     ]
    }
   ],
   "source": [
    "# Train the model\n",
    "fit_model = nn_model.fit(X_train_scaled, y_train, epochs=5)"
   ]
  },
  {
   "cell_type": "code",
   "execution_count": 52,
   "id": "aa44f809",
   "metadata": {},
   "outputs": [
    {
     "name": "stdout",
     "output_type": "stream",
     "text": [
      "251535/251535 - 2s - loss: -9.7934e+01 - acc: 0.4983\n",
      "Loss: -97.93367988120384, Accuracy: 0.4983481466770172\n"
     ]
    }
   ],
   "source": [
    "# now that our deep learning model is properly trained, we can evaluate the model's performance by testing its\n",
    "# predictive capabilities on our testing dataset\n",
    "# Evaluate the model using the test data\n",
    "model_loss, model_accuracy = nn_model.evaluate(X_test,y_test,verbose=2)\n",
    "print(f\"Loss: {model_loss}, Accuracy: {model_accuracy}\")"
   ]
  },
  {
   "cell_type": "code",
   "execution_count": 53,
   "id": "79b842cd",
   "metadata": {},
   "outputs": [
    {
     "name": "stdout",
     "output_type": "stream",
     "text": [
      "Epoch 1/15\n",
      "754604/754604 [==============================] - 10s 14us/sample - loss: -107.8298 - acc: 0.4976\n",
      "Epoch 2/15\n",
      "754604/754604 [==============================] - 10s 14us/sample - loss: -127.3599 - acc: 0.4976\n",
      "Epoch 3/15\n",
      "754604/754604 [==============================] - 11s 14us/sample - loss: -146.8980 - acc: 0.4976\n",
      "Epoch 4/15\n",
      "754604/754604 [==============================] - 10s 14us/sample - loss: -166.4337 - acc: 0.4976\n",
      "Epoch 5/15\n",
      "754604/754604 [==============================] - 11s 14us/sample - loss: -185.9664 - acc: 0.4976\n",
      "Epoch 6/15\n",
      "754604/754604 [==============================] - 11s 14us/sample - loss: -205.4876 - acc: 0.4976\n",
      "Epoch 7/15\n",
      "754604/754604 [==============================] - 11s 14us/sample - loss: -225.0229 - acc: 0.4976\n",
      "Epoch 8/15\n",
      "754604/754604 [==============================] - 11s 14us/sample - loss: -244.5646 - acc: 0.4976\n",
      "Epoch 9/15\n",
      "754604/754604 [==============================] - 11s 14us/sample - loss: -264.0911 - acc: 0.4976\n",
      "Epoch 10/15\n",
      "754604/754604 [==============================] - 10s 14us/sample - loss: -283.6276 - acc: 0.4976\n",
      "Epoch 11/15\n",
      "754604/754604 [==============================] - 11s 14us/sample - loss: -303.1775 - acc: 0.4976\n",
      "Epoch 12/15\n",
      "754604/754604 [==============================] - 10s 14us/sample - loss: -322.7053 - acc: 0.4976\n",
      "Epoch 13/15\n",
      "754604/754604 [==============================] - 10s 14us/sample - loss: -342.2451 - acc: 0.4976\n",
      "Epoch 14/15\n",
      "754604/754604 [==============================] - 10s 14us/sample - loss: -361.7731 - acc: 0.4976\n",
      "Epoch 15/15\n",
      "754604/754604 [==============================] - 11s 14us/sample - loss: -381.3015 - acc: 0.4976\n"
     ]
    }
   ],
   "source": [
    "# Train the model with more epochs\n",
    "fit_model_b = nn_model.fit(X_train_scaled, y_train, epochs=15)"
   ]
  },
  {
   "cell_type": "code",
   "execution_count": 19,
   "id": "2113581f",
   "metadata": {},
   "outputs": [
    {
     "name": "stdout",
     "output_type": "stream",
     "text": [
      "251535/251535 - 1s - loss: -3.9078e+02 - acc: 0.4983\n",
      "Loss: -390.7823153511997, Accuracy: 0.4983481466770172\n"
     ]
    }
   ],
   "source": [
    "# now that our deep learning model is properly trained, we can evaluate the model's performance by testing its\n",
    "# predictive capabilities on our testing dataset\n",
    "# Evaluate the model using the test data\n",
    "model_loss, model_accuracy = nn_model.evaluate(X_test,y_test,verbose=2)\n",
    "print(f\"Loss: {model_loss}, Accuracy: {model_accuracy}\")"
   ]
  },
  {
   "cell_type": "markdown",
   "id": "01a26150",
   "metadata": {},
   "source": [
    "## Second model - one feature layer (relu)"
   ]
  },
  {
   "cell_type": "code",
   "execution_count": 21,
   "id": "cf9e240a",
   "metadata": {},
   "outputs": [
    {
     "name": "stdout",
     "output_type": "stream",
     "text": [
      "Model: \"sequential_2\"\n",
      "_________________________________________________________________\n",
      "Layer (type)                 Output Shape              Param #   \n",
      "=================================================================\n",
      "dense_4 (Dense)              (None, 1)                 11        \n",
      "_________________________________________________________________\n",
      "dense_5 (Dense)              (None, 1)                 2         \n",
      "=================================================================\n",
      "Total params: 13\n",
      "Trainable params: 13\n",
      "Non-trainable params: 0\n",
      "_________________________________________________________________\n"
     ]
    }
   ],
   "source": [
    "# Create the keras sequential model\n",
    "nn_model_2 = tf.keras.models.Sequential()\n",
    "\n",
    "# Add the first layer including input layer\n",
    "nn_model_2.add(tf.keras.layers.Dense(units=1, activation=\"relu\", input_dim = number_input_features))\n",
    "\n",
    "# Add the ouput layer that uses a probability activation function\n",
    "nn_model_2.add(tf.keras.layers.Dense(units=1, activation=\"sigmoid\"))\n",
    "\n",
    "# Create a summary to check the structure of the sequential model\n",
    "nn_model_2.summary()"
   ]
  },
  {
   "cell_type": "code",
   "execution_count": 22,
   "id": "d5dee5c9",
   "metadata": {},
   "outputs": [],
   "source": [
    "# Compile the model and customize metrics\n",
    "nn_model_2.compile(loss=\"binary_crossentropy\", optimizer=\"adam\", metrics=[\"accuracy\"])"
   ]
  },
  {
   "cell_type": "code",
   "execution_count": 23,
   "id": "ee3647dd",
   "metadata": {},
   "outputs": [
    {
     "name": "stdout",
     "output_type": "stream",
     "text": [
      "Epoch 1/5\n",
      "754604/754604 [==============================] - 10s 13us/sample - loss: -122.9225 - acc: 0.4976\n",
      "Epoch 2/5\n",
      "754604/754604 [==============================] - 10s 13us/sample - loss: -724.3522 - acc: 0.4976\n",
      "Epoch 3/5\n",
      "754604/754604 [==============================] - 10s 13us/sample - loss: -1836.4274 - acc: 0.4976\n",
      "Epoch 4/5\n",
      "754604/754604 [==============================] - 10s 13us/sample - loss: -3453.8243 - acc: 0.4976\n",
      "Epoch 5/5\n",
      "754604/754604 [==============================] - 10s 13us/sample - loss: -5569.1543 - acc: 0.4976\n"
     ]
    }
   ],
   "source": [
    "# Train the model\n",
    "fit_model_2 = nn_model_2.fit(X_train_scaled, y_train, epochs=5)"
   ]
  },
  {
   "cell_type": "code",
   "execution_count": 24,
   "id": "0eb241fe",
   "metadata": {},
   "outputs": [
    {
     "name": "stdout",
     "output_type": "stream",
     "text": [
      "251535/251535 - 2s - loss: -3.5649e+05 - acc: 0.4983\n",
      "Loss: -356490.4129010376, Accuracy: 0.4983481466770172\n"
     ]
    }
   ],
   "source": [
    "# now that our deep learning model is properly trained, we can evaluate the model's performance by testing its\n",
    "#predictive capabilities on our testing dataset\n",
    "# Evaluate the model using the test data\n",
    "model_loss_2, model_accuracy_2 = nn_model_2.evaluate(X_test,y_test,verbose=2)\n",
    "print(f\"Loss: {model_loss_2}, Accuracy: {model_accuracy_2}\")"
   ]
  },
  {
   "cell_type": "markdown",
   "id": "67a8fd65",
   "metadata": {},
   "source": [
    "## Third model - two feature layers (relu + relu) and more nodes"
   ]
  },
  {
   "cell_type": "code",
   "execution_count": 25,
   "id": "9f90e4d0",
   "metadata": {
    "scrolled": true
   },
   "outputs": [
    {
     "name": "stdout",
     "output_type": "stream",
     "text": [
      "Model: \"sequential_3\"\n",
      "_________________________________________________________________\n",
      "Layer (type)                 Output Shape              Param #   \n",
      "=================================================================\n",
      "dense_6 (Dense)              (None, 5)                 55        \n",
      "_________________________________________________________________\n",
      "dense_7 (Dense)              (None, 5)                 30        \n",
      "_________________________________________________________________\n",
      "dense_8 (Dense)              (None, 1)                 6         \n",
      "=================================================================\n",
      "Total params: 91\n",
      "Trainable params: 91\n",
      "Non-trainable params: 0\n",
      "_________________________________________________________________\n"
     ]
    }
   ],
   "source": [
    "# Create the keras sequential model\n",
    "nn_model_3 = tf.keras.models.Sequential()\n",
    "\n",
    "# Add the first layer including input layer\n",
    "nn_model_3.add(tf.keras.layers.Dense(units=5, activation=\"relu\", input_dim = number_input_features))\n",
    "\n",
    "# Add the second input layer\n",
    "nn_model_3.add(tf.keras.layers.Dense(units=5, activation=\"relu\"))\n",
    "\n",
    "# Add the ouput layer that uses a probability activation function\n",
    "nn_model_3.add(tf.keras.layers.Dense(units=1, activation=\"sigmoid\"))\n",
    "\n",
    "# Create a summary to check the structure of the sequential model\n",
    "nn_model_3.summary()"
   ]
  },
  {
   "cell_type": "code",
   "execution_count": 26,
   "id": "5736a9a1",
   "metadata": {},
   "outputs": [],
   "source": [
    "# Compile the model and customize metrics\n",
    "nn_model_3.compile(loss=\"binary_crossentropy\", optimizer=\"adam\", metrics=[\"accuracy\"])"
   ]
  },
  {
   "cell_type": "code",
   "execution_count": 27,
   "id": "20314b46",
   "metadata": {
    "scrolled": true
   },
   "outputs": [
    {
     "name": "stdout",
     "output_type": "stream",
     "text": [
      "Epoch 1/5\n",
      "754604/754604 [==============================] - 10s 14us/sample - loss: -54145.4523 - acc: 0.4968\n",
      "Epoch 2/5\n",
      "754604/754604 [==============================] - 10s 14us/sample - loss: -612995.0939 - acc: 0.4976\n",
      "Epoch 3/5\n",
      "754604/754604 [==============================] - 10s 14us/sample - loss: -2341097.2702 - acc: 0.4976\n",
      "Epoch 4/5\n",
      "754604/754604 [==============================] - 11s 14us/sample - loss: -5882135.3934 - acc: 0.4976\n",
      "Epoch 5/5\n",
      "754604/754604 [==============================] - 11s 14us/sample - loss: -11875324.4845 - acc: 0.4976\n"
     ]
    }
   ],
   "source": [
    "# Train the model\n",
    "fit_model_3 = nn_model_3.fit(X_train_scaled, y_train, epochs=5)"
   ]
  },
  {
   "cell_type": "code",
   "execution_count": 28,
   "id": "0f2b5d96",
   "metadata": {},
   "outputs": [
    {
     "name": "stdout",
     "output_type": "stream",
     "text": [
      "251535/251535 - 2s - loss: -3.7928e+09 - acc: 0.4983\n",
      "Loss: -3792791266.657221, Accuracy: 0.4983481466770172\n"
     ]
    }
   ],
   "source": [
    "# now that our deep learning model is properly trained, we can evaluate the model's performance by testing its\n",
    "#predictive capabilities on our testing dataset\n",
    "# Evaluate the model using the test data\n",
    "model_loss_3, model_accuracy_3 = nn_model_3.evaluate(X_test,y_test,verbose=2)\n",
    "print(f\"Loss: {model_loss_3}, Accuracy: {model_accuracy_3}\")"
   ]
  },
  {
   "cell_type": "markdown",
   "id": "a6d86cd1",
   "metadata": {},
   "source": [
    "## fourth model - same as above with new training/testing data"
   ]
  },
  {
   "cell_type": "code",
   "execution_count": 29,
   "id": "e014de50",
   "metadata": {},
   "outputs": [],
   "source": [
    "# Split the preprocessed data into a training and testing dataset\n",
    "X_train_2, X_test_2, y_train_2, y_test_2 = train_test_split(X,y,random_state = 1)\n",
    "\n",
    "# Create a StandardScaler instances\n",
    "scaler_2 = StandardScaler()\n",
    "\n",
    "# Fit the StandardScaler\n",
    "X_scaler_2 = scaler_2.fit(X_train_2)\n",
    "\n",
    "# Scale the data\n",
    "X_train_scaled_2 = X_scaler_2.transform(X_train_2)\n",
    "X_test_scaled_2 = X_scaler_2.transform(X_test_2)"
   ]
  },
  {
   "cell_type": "code",
   "execution_count": 30,
   "id": "f4aabcab",
   "metadata": {
    "scrolled": true
   },
   "outputs": [
    {
     "name": "stdout",
     "output_type": "stream",
     "text": [
      "Model: \"sequential_4\"\n",
      "_________________________________________________________________\n",
      "Layer (type)                 Output Shape              Param #   \n",
      "=================================================================\n",
      "dense_9 (Dense)              (None, 5)                 55        \n",
      "_________________________________________________________________\n",
      "dense_10 (Dense)             (None, 5)                 30        \n",
      "_________________________________________________________________\n",
      "dense_11 (Dense)             (None, 1)                 6         \n",
      "=================================================================\n",
      "Total params: 91\n",
      "Trainable params: 91\n",
      "Non-trainable params: 0\n",
      "_________________________________________________________________\n"
     ]
    }
   ],
   "source": [
    "# Create the keras sequential model\n",
    "nn_model_4 = tf.keras.models.Sequential()\n",
    "\n",
    "# Add the first layer including input layer\n",
    "nn_model_4.add(tf.keras.layers.Dense(units=5, activation=\"relu\", input_dim = number_input_features))\n",
    "\n",
    "# Add the second input layer\n",
    "nn_model_4.add(tf.keras.layers.Dense(units=5, activation=\"relu\"))\n",
    "\n",
    "# Add the ouput layer that uses a probability activation function\n",
    "nn_model_4.add(tf.keras.layers.Dense(units=1, activation=\"sigmoid\"))\n",
    "\n",
    "# Create a summary to check the structure of the sequential model\n",
    "nn_model_4.summary()"
   ]
  },
  {
   "cell_type": "code",
   "execution_count": 31,
   "id": "3a08dc8c",
   "metadata": {},
   "outputs": [],
   "source": [
    "# Compile the model and customize metrics\n",
    "nn_model_4.compile(loss=\"binary_crossentropy\", optimizer=\"adam\", metrics=[\"accuracy\"])"
   ]
  },
  {
   "cell_type": "code",
   "execution_count": 32,
   "id": "80e9ddf1",
   "metadata": {
    "scrolled": true
   },
   "outputs": [
    {
     "name": "stdout",
     "output_type": "stream",
     "text": [
      "Epoch 1/5\n",
      "754604/754604 [==============================] - 10s 14us/sample - loss: -52810.8345 - acc: 0.4976\n",
      "Epoch 2/5\n",
      "754604/754604 [==============================] - 10s 14us/sample - loss: -598549.5676 - acc: 0.4976\n",
      "Epoch 3/5\n",
      "754604/754604 [==============================] - 10s 14us/sample - loss: -2296848.2903 - acc: 0.4976\n",
      "Epoch 4/5\n",
      "754604/754604 [==============================] - 10s 14us/sample - loss: -5784519.9788 - acc: 0.4976\n",
      "Epoch 5/5\n",
      "754604/754604 [==============================] - 10s 14us/sample - loss: -11680812.7720 - acc: 0.4976\n"
     ]
    }
   ],
   "source": [
    "# Train the model\n",
    "fit_model_4 = nn_model_4.fit(X_train_scaled_2, y_train_2, epochs=5)"
   ]
  },
  {
   "cell_type": "code",
   "execution_count": 35,
   "id": "ce40f938",
   "metadata": {},
   "outputs": [
    {
     "name": "stdout",
     "output_type": "stream",
     "text": [
      "251535/251535 - 2s - loss: -3.8802e+09 - acc: 0.4983\n",
      "Loss: -3880210284.250033, Accuracy: 0.4983481466770172\n"
     ]
    }
   ],
   "source": [
    "4# now that our deep learning model is properly trained, we can evaluate the model's performance by testing its\n",
    "#predictive capabilities on our testing dataset\n",
    "# Evaluate the model using the test data\n",
    "model_loss_4, model_accuracy_4 = nn_model_4.evaluate(X_test_2,y_test_2,verbose=2)\n",
    "print(f\"Loss: {model_loss_4}, Accuracy: {model_accuracy_4}\")"
   ]
  },
  {
   "cell_type": "markdown",
   "id": "80dc0f73",
   "metadata": {},
   "source": [
    "## fifth model - new training/testing data, third layer, softmax output layer"
   ]
  },
  {
   "cell_type": "code",
   "execution_count": 41,
   "id": "384e295d",
   "metadata": {},
   "outputs": [],
   "source": [
    "# Split the preprocessed data into a training and testing dataset\n",
    "X_train_3, X_test_3, y_train_3, y_test_3 = train_test_split(X,y,random_state = 1)\n",
    "\n",
    "# Create a StandardScaler instances\n",
    "scaler_3 = StandardScaler()\n",
    "\n",
    "# Fit the StandardScaler\n",
    "X_scaler_3 = scaler_3.fit(X_train_3)\n",
    "\n",
    "# Scale the data\n",
    "X_train_scaled_3 = X_scaler_3.transform(X_train_3)\n",
    "X_test_scaled_3 = X_scaler_3.transform(X_test_3)"
   ]
  },
  {
   "cell_type": "code",
   "execution_count": 42,
   "id": "d99be80c",
   "metadata": {},
   "outputs": [
    {
     "name": "stdout",
     "output_type": "stream",
     "text": [
      "Model: \"sequential_6\"\n",
      "_________________________________________________________________\n",
      "Layer (type)                 Output Shape              Param #   \n",
      "=================================================================\n",
      "dense_16 (Dense)             (None, 6)                 66        \n",
      "_________________________________________________________________\n",
      "dense_17 (Dense)             (None, 8)                 56        \n",
      "_________________________________________________________________\n",
      "dense_18 (Dense)             (None, 6)                 54        \n",
      "_________________________________________________________________\n",
      "dense_19 (Dense)             (None, 1)                 7         \n",
      "=================================================================\n",
      "Total params: 183\n",
      "Trainable params: 183\n",
      "Non-trainable params: 0\n",
      "_________________________________________________________________\n"
     ]
    }
   ],
   "source": [
    "# Create the keras sequential model\n",
    "nn_model_5 = tf.keras.models.Sequential()\n",
    "\n",
    "# Add the first layer including input layer\n",
    "nn_model_5.add(tf.keras.layers.Dense(units=6, activation=\"relu\", input_dim = number_input_features))\n",
    "\n",
    "# Add the second input layer\n",
    "nn_model_5.add(tf.keras.layers.Dense(units=8, activation=\"relu\"))\n",
    "\n",
    "# Add the third input layer\n",
    "nn_model_5.add(tf.keras.layers.Dense(units=6, activation=\"relu\"))\n",
    "\n",
    "# Add the ouput layer that uses a probability activation function\n",
    "nn_model_5.add(tf.keras.layers.Dense(units=1, activation=\"softmax\"))\n",
    "\n",
    "# Create a summary to check the structure of the sequential model\n",
    "nn_model_5.summary()"
   ]
  },
  {
   "cell_type": "code",
   "execution_count": 43,
   "id": "384e406c",
   "metadata": {},
   "outputs": [],
   "source": [
    "# Compile the model and customize metrics\n",
    "nn_model_5.compile(loss=\"binary_crossentropy\", optimizer=\"adam\", metrics=[\"accuracy\"])"
   ]
  },
  {
   "cell_type": "code",
   "execution_count": 44,
   "id": "11394e81",
   "metadata": {},
   "outputs": [
    {
     "name": "stdout",
     "output_type": "stream",
     "text": [
      "Epoch 1/8\n",
      "754604/754604 [==============================] - 12s 16us/sample - loss: -6.5241 - acc: 0.4976\n",
      "Epoch 2/8\n",
      "754604/754604 [==============================] - 12s 15us/sample - loss: -6.5241 - acc: 0.4976\n",
      "Epoch 3/8\n",
      "754604/754604 [==============================] - 12s 16us/sample - loss: -6.5241 - acc: 0.4976\n",
      "Epoch 4/8\n",
      "754604/754604 [==============================] - 12s 16us/sample - loss: -6.5241 - acc: 0.4976\n",
      "Epoch 5/8\n",
      "754604/754604 [==============================] - 12s 15us/sample - loss: -6.5241 - acc: 0.4976\n",
      "Epoch 6/8\n",
      "754604/754604 [==============================] - 12s 16us/sample - loss: -6.5241 - acc: 0.4976\n",
      "Epoch 7/8\n",
      "754604/754604 [==============================] - 12s 16us/sample - loss: -6.5241 - acc: 0.4976\n",
      "Epoch 8/8\n",
      "754604/754604 [==============================] - 12s 16us/sample - loss: -6.5241 - acc: 0.4976\n"
     ]
    }
   ],
   "source": [
    "# Train the model\n",
    "fit_model_5 = nn_model_5.fit(X_train_scaled_3, y_train_3, epochs=8)"
   ]
  },
  {
   "cell_type": "code",
   "execution_count": 45,
   "id": "5009802a",
   "metadata": {},
   "outputs": [
    {
     "name": "stdout",
     "output_type": "stream",
     "text": [
      "251535/251535 - 2s - loss: -6.5150e+00 - acc: 0.4983\n",
      "Loss: -6.514957813184685, Accuracy: 0.4983481466770172\n"
     ]
    }
   ],
   "source": [
    "# now that our deep learning model is properly trained, we can evaluate the model's performance by testing its\n",
    "#predictive capabilities on our testing dataset\n",
    "# Evaluate the model using the test data\n",
    "model_loss_5, model_accuracy_5 = nn_model_5.evaluate(X_test_3,y_test_3,verbose=2)\n",
    "print(f\"Loss: {model_loss_5}, Accuracy: {model_accuracy_5}\")"
   ]
  },
  {
   "cell_type": "markdown",
   "id": "1e0361cb",
   "metadata": {},
   "source": [
    "**note to talk to group about** - accuracy score is constant across all models, loss keeps growing. is something being initalized improperly?\n",
    "\n",
    "tried using a different set of testing/training data but accuracy remained the same"
   ]
  },
  {
   "cell_type": "code",
   "execution_count": null,
   "id": "c9d19032",
   "metadata": {},
   "outputs": [],
   "source": []
  },
  {
   "cell_type": "code",
   "execution_count": null,
   "id": "a428fbd2",
   "metadata": {},
   "outputs": [],
   "source": []
  },
  {
   "cell_type": "code",
   "execution_count": null,
   "id": "81bb392f",
   "metadata": {},
   "outputs": [],
   "source": []
  }
 ],
 "metadata": {
  "kernelspec": {
   "display_name": "mlenv",
   "language": "python",
   "name": "mlenv"
  },
  "language_info": {
   "codemirror_mode": {
    "name": "ipython",
    "version": 3
   },
   "file_extension": ".py",
   "mimetype": "text/x-python",
   "name": "python",
   "nbconvert_exporter": "python",
   "pygments_lexer": "ipython3",
   "version": "3.7.11"
  }
 },
 "nbformat": 4,
 "nbformat_minor": 5
}
